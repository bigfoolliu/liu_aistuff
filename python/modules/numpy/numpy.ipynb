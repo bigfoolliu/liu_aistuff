{
 "cells": [
  {
   "cell_type": "code",
   "execution_count": 2,
   "metadata": {},
   "outputs": [],
   "source": [
    "import numpy as np"
   ]
  },
  {
   "cell_type": "markdown",
   "metadata": {},
   "source": [
    "## 1.创建一个3*3的多维数组"
   ]
  },
  {
   "cell_type": "code",
   "execution_count": 3,
   "metadata": {},
   "outputs": [
    {
     "data": {
      "text/plain": [
       "array([[12, 23, 23],\n",
       "       [12, 34, 33],\n",
       "       [54, 13, 34]])"
      ]
     },
     "execution_count": 3,
     "metadata": {},
     "output_type": "execute_result"
    }
   ],
   "source": [
    "a = np.array([[12, 23, 23],\n",
    "         [12, 34, 33],\n",
    "         [54, 13, 34]])\n",
    "a"
   ]
  },
  {
   "cell_type": "markdown",
   "metadata": {},
   "source": [
    "## 2.对比python列表和numpy数组的效率\n",
    "\n",
    "**numpy比python列表快的原因:**\n",
    "\n",
    "- python列表可以存放不同类型的数据(numpy不能),存的是数据的地址\n",
    "- numpy牺牲了其通用性换取性能\n",
    "- numpy支持并行化运算(充分调用计算机多核)\n",
    "- numpy使用C语言编写,编译成机器码,解除了python的GIL锁的限制"
   ]
  },
  {
   "cell_type": "code",
   "execution_count": 4,
   "metadata": {},
   "outputs": [
    {
     "name": "stdout",
     "output_type": "stream",
     "text": [
      "46.2 µs ± 1.29 µs per loop (mean ± std. dev. of 7 runs, 10000 loops each)\n",
      "7.7 µs ± 342 ns per loop (mean ± std. dev. of 7 runs, 100000 loops each)\n"
     ]
    }
   ],
   "source": [
    "import random\n",
    "\n",
    "python_list = [random.random() for i in range(10000)]\n",
    "numpy_array = np.array(python_list)\n",
    "\n",
    "# 对不同的数据类型进行求和并计算各自的时间\n",
    "%timeit sum(python_list)\n",
    "%timeit numpy_array.sum()"
   ]
  },
  {
   "cell_type": "markdown",
   "metadata": {},
   "source": [
    "## 3.ndarray的属性"
   ]
  },
  {
   "cell_type": "code",
   "execution_count": 5,
   "metadata": {},
   "outputs": [
    {
     "data": {
      "text/plain": [
       "(3, 3)"
      ]
     },
     "execution_count": 5,
     "metadata": {},
     "output_type": "execute_result"
    }
   ],
   "source": [
    "a.shape # 数组的形状"
   ]
  },
  {
   "cell_type": "code",
   "execution_count": 6,
   "metadata": {},
   "outputs": [
    {
     "data": {
      "text/plain": [
       "9"
      ]
     },
     "execution_count": 6,
     "metadata": {},
     "output_type": "execute_result"
    }
   ],
   "source": [
    "a.size  # 数组中元素的数量"
   ]
  },
  {
   "cell_type": "code",
   "execution_count": 7,
   "metadata": {},
   "outputs": [
    {
     "data": {
      "text/plain": [
       "2"
      ]
     },
     "execution_count": 7,
     "metadata": {},
     "output_type": "execute_result"
    }
   ],
   "source": [
    "a.ndim  # 数组的维数"
   ]
  },
  {
   "cell_type": "code",
   "execution_count": 8,
   "metadata": {},
   "outputs": [
    {
     "data": {
      "text/plain": [
       "4"
      ]
     },
     "execution_count": 8,
     "metadata": {},
     "output_type": "execute_result"
    }
   ],
   "source": [
    "a.itemsize  # 一个数组元素的占用大小(字节)"
   ]
  },
  {
   "cell_type": "code",
   "execution_count": 9,
   "metadata": {},
   "outputs": [
    {
     "data": {
      "text/plain": [
       "dtype('int32')"
      ]
     },
     "execution_count": 9,
     "metadata": {},
     "output_type": "execute_result"
    }
   ],
   "source": [
    "a.dtype  # 数组元素的类型"
   ]
  },
  {
   "cell_type": "markdown",
   "metadata": {},
   "source": [
    "## 4. 数组的类型(numpy.dtype)\n",
    "\n",
    "常见的如下:\n",
    "- np.bool, 一个字节存储的布尔类型(True或者False), 简写为'b'\n",
    "- np.uint16, 无符号整数, 0至65535, 简写为'u2'\n",
    "- np.int32, 整数, -2^32至2^32-1, 简写为'i4'\n",
    "- np.float32, 单精度浮点数, 简写为'f4'\n",
    "- np.complex64, 复数,分别用两个32位浮点数表示实部和虚部, 简写为''\n",
    "\n",
    "- np.object_, python对象, 简写为'O'\n",
    "- np.string_, 字符串, 简写为'S'\n",
    "- np.unicode_, unicode类型, 简写为'U'"
   ]
  },
  {
   "cell_type": "code",
   "execution_count": 10,
   "metadata": {},
   "outputs": [
    {
     "name": "stdout",
     "output_type": "stream",
     "text": [
      "[[1 2 3]\n",
      " [2 4 6]]\n"
     ]
    },
    {
     "data": {
      "text/plain": [
       "dtype('int16')"
      ]
     },
     "execution_count": 10,
     "metadata": {},
     "output_type": "execute_result"
    }
   ],
   "source": [
    "# 创建数组的时候指定数据类型\n",
    "a = np.array([[1, 2, 3], [2, 4, 6]], dtype=np.int16)\n",
    "print(a)\n",
    "a.dtype"
   ]
  },
  {
   "cell_type": "markdown",
   "metadata": {},
   "source": [
    "## 5. 数组的基本操作"
   ]
  },
  {
   "cell_type": "markdown",
   "metadata": {},
   "source": [
    "#### 5.1生成全为0或全为1的数组"
   ]
  },
  {
   "cell_type": "code",
   "execution_count": 11,
   "metadata": {},
   "outputs": [
    {
     "data": {
      "text/plain": [
       "array([[0., 0., 0., 0.],\n",
       "       [0., 0., 0., 0.],\n",
       "       [0., 0., 0., 0.],\n",
       "       [0., 0., 0., 0.]])"
      ]
     },
     "execution_count": 11,
     "metadata": {},
     "output_type": "execute_result"
    }
   ],
   "source": [
    "# 生成全为0的数组\n",
    "zeros = np.zeros([4, 4])\n",
    "zeros"
   ]
  },
  {
   "cell_type": "code",
   "execution_count": 12,
   "metadata": {},
   "outputs": [
    {
     "data": {
      "text/plain": [
       "array([[1., 1., 1., 1.],\n",
       "       [1., 1., 1., 1.],\n",
       "       [1., 1., 1., 1.],\n",
       "       [1., 1., 1., 1.]])"
      ]
     },
     "execution_count": 12,
     "metadata": {},
     "output_type": "execute_result"
    }
   ],
   "source": [
    "# 生成全为1的数组\n",
    "ones = np.ones([4, 4])\n",
    "ones"
   ]
  },
  {
   "cell_type": "markdown",
   "metadata": {},
   "source": [
    "#### 5.2生成固定范围的数组\n",
    "**np.linspace(start, stop, num, endpoint, retstep, dtype)**\n",
    "\n",
    "- start 序列的起始值\n",
    "- stop 序列的终止值\n",
    "- endpoint为true，则该值包含于序列中\n",
    "- num 要生成的等间隔样例数量，默认为50\n",
    "- endpoint 序列中是否包含stop值，默认为True\n",
    "- retstep 如果为true，返回样例，以及连续数字之间的步长\n",
    "- dtype 输出ndarray的数据类型\n",
    "\n",
    "\n",
    "**np.arange(start, stop, step, dtype)**\n",
    "\n",
    "- start 序列的起始值\n",
    "- stop 序列的终止值\n",
    "- step 间隔值\n",
    "- dtype 数据类型"
   ]
  },
  {
   "cell_type": "code",
   "execution_count": 13,
   "metadata": {},
   "outputs": [
    {
     "name": "stdout",
     "output_type": "stream",
     "text": [
      "[ 0  1  2  3  4  5  6  7  8  9 10 11 12 13 14 15 16 17 18 19 20 21 22 23\n",
      " 24 25 26 27 28 29 30 31 32 33 34 35 36 37 38 39 40 41 42 43 44 45 46 47\n",
      " 48 49]\n"
     ]
    }
   ],
   "source": [
    "# 生成指定范围和指定数量的数组\n",
    "a = np.linspace(0, 50, 50, endpoint=False, dtype=np.int8)\n",
    "print(a)\n"
   ]
  },
  {
   "cell_type": "code",
   "execution_count": 14,
   "metadata": {},
   "outputs": [
    {
     "name": "stdout",
     "output_type": "stream",
     "text": [
      "[ 0  3  6  9 12 15 18]\n"
     ]
    }
   ],
   "source": [
    "# 生成指定范围和指定间隔的数组\n",
    "a = np.arange(0, 20, 3)\n",
    "print(a)"
   ]
  },
  {
   "cell_type": "markdown",
   "metadata": {},
   "source": [
    "#### 5.3生成随机数组\n",
    "1. **np.random.rand(d0, d1, ..., dn)**\n",
    "\n",
    "    返回[0.0, 1.0]之间的一组均匀分布的数, 可以指定数量.\n",
    "\n",
    "2. **np.random.uniform(low, high, size)**\n",
    "\n",
    "    从一个均匀分布[low,high)中随机采样，注意定义域是左闭右开，即包含low，不包含high.\n",
    "\n",
    "    - low: 采样下界，float类型，默认值为0；\n",
    "    - high: 采样上界，float类型，默认值为1；\n",
    "    - size: 输出样本数目，为int或元组(tuple)类型，例如，size=(m,n,k), 则输出mnk个样本，缺省时输出1个值。\n",
    "\n",
    "\n",
    "3. **np.random.randn(d0, d1, .., dn)**\n",
    "\n",
    "    从标准正态分布中返回一个或多个样本值.\n",
    "\n",
    "4. **np.random.normal(loc, scale, size)**\n",
    "    - loc：float, 此概率分布的均值（对应着整个分布的中心centre）\n",
    "    - scale：float, 此概率分布的标准差（对应于分布的宽度，scale越大越矮胖，scale越小，越瘦高）\n",
    "    - size：int or tuple of ints, 输出的shape，默认为None，只输出一个值\n",
    "\n",
    "5. **np.random.randint()**\n",
    "    "
   ]
  },
  {
   "cell_type": "code",
   "execution_count": 15,
   "metadata": {},
   "outputs": [
    {
     "data": {
      "text/plain": [
       "<matplotlib.figure.Figure at 0x671b990>"
      ]
     },
     "metadata": {},
     "output_type": "display_data"
    }
   ],
   "source": [
    "\n",
    "a = np.random.uniform(-1, 1, 100000)  # -1至1之间生成均匀分布的指定数量的一维数组\n",
    "\n",
    "import matplotlib.pyplot as plt\n",
    "plt.figure(figsize=(4, 3), dpi=100)\n",
    "plt.hist(a, bins=100)  # 创建一个直方图,并指定组数为100\n",
    "plt.show()"
   ]
  },
  {
   "cell_type": "code",
   "execution_count": 16,
   "metadata": {},
   "outputs": [
    {
     "data": {
      "image/png": "[encoded data removed]",
      "text/plain": [
       "<matplotlib.figure.Figure at 0x66db950>"
      ]
     },
     "metadata": {},
     "output_type": "display_data"
    }
   ],
   "source": [
    "a = np.random.normal(1, 1, 100000)  # 生成100000个数值, 其均值为1, 标准差为1\n",
    "\n",
    "import matplotlib.pyplot as plt\n",
    "plt.figure(figsize=(4, 3), dpi=100)\n",
    "plt.hist(a, bins=100)\n",
    "plt.show()"
   ]
  },
  {
   "cell_type": "markdown",
   "metadata": {},
   "source": [
    "**创建符合正态分布的8支股票10天的涨幅数据**"
   ]
  },
  {
   "cell_type": "code",
   "execution_count": 17,
   "metadata": {},
   "outputs": [
    {
     "data": {
      "text/plain": [
       "array([[-1.51071102, -1.36936024,  0.55694841, -0.20575934, -0.09324103,\n",
       "        -1.99472206,  0.31168829,  1.78759492, -0.00632116, -0.45681451],\n",
       "       [ 0.01758019,  0.16156367,  0.85685861, -1.09281586, -1.55249727,\n",
       "         2.1429633 ,  0.27954998, -0.27899284,  1.48244412, -1.17277055],\n",
       "       [ 0.12600475,  0.32274608,  1.34435922, -0.31759477,  0.96682537,\n",
       "         1.42636143, -0.04854809,  0.73437288,  0.47656736,  2.43022751],\n",
       "       [-0.13824032,  0.02117672, -0.66105999,  0.28058603,  0.61384453,\n",
       "        -0.4402858 , -1.12127357,  0.58564511, -1.82240927,  0.34940699],\n",
       "       [-1.66710949,  0.3424013 , -0.41304379, -0.20482929,  0.25796597,\n",
       "         0.80247632,  0.94281792,  0.55335991, -1.70455389, -1.48247077],\n",
       "       [ 1.88535557,  0.6650327 , -0.83948646, -0.26989504, -1.17903328,\n",
       "        -0.07452791, -0.23354159, -0.04800183, -0.40335668, -1.04830611],\n",
       "       [ 1.22954709,  1.01093354, -0.4699364 ,  0.78883776,  0.80613997,\n",
       "         0.51679347, -0.57349223, -0.39183405,  0.63299306, -0.83275458],\n",
       "       [-0.64962102, -1.03816198,  0.09095167, -1.55001416,  0.54429528,\n",
       "         1.30454256, -0.20243059, -2.25656135,  0.56115705,  0.7123862 ]])"
      ]
     },
     "execution_count": 17,
     "metadata": {},
     "output_type": "execute_result"
    }
   ],
   "source": [
    "stock_change = np.random.normal(0, 1, (8, 10))  # 生成8 * 10的数据(8个股票的10天涨跌幅)\n",
    "stock_change"
   ]
  },
  {
   "cell_type": "markdown",
   "metadata": {},
   "source": [
    "#### 5.4数组的索引和切片"
   ]
  },
  {
   "cell_type": "code",
   "execution_count": 18,
   "metadata": {},
   "outputs": [
    {
     "data": {
      "text/plain": [
       "array([-1.51071102, -1.36936024,  0.55694841])"
      ]
     },
     "execution_count": 18,
     "metadata": {},
     "output_type": "execute_result"
    }
   ],
   "source": [
    "# 获取第一个股票的前3个交易日的涨跌幅数据\n",
    "stock_change[0, 0:3]"
   ]
  },
  {
   "cell_type": "code",
   "execution_count": 21,
   "metadata": {},
   "outputs": [
    {
     "name": "stdout",
     "output_type": "stream",
     "text": [
      "1\n",
      "[2 3]\n"
     ]
    }
   ],
   "source": [
    "# 多维数组的切片\n",
    "a1 = np.array([\n",
    "    [\n",
    "        [1, 2, 3],\n",
    "        [4, 5, 6]\n",
    "    ],\n",
    "    [\n",
    "        [11, 22, 33],\n",
    "        [44, 55, 66]\n",
    "    ]\n",
    "])  # 3维数组\n",
    "\n",
    "print(a1[0, 0, 0])  # 获取0行0列0纵的数据\n",
    "print(a1[0, 0, 1:3])"
   ]
  },
  {
   "cell_type": "markdown",
   "metadata": {},
   "source": [
    "#### 5.5数组的形状修改\n",
    "\n",
    "**ndarray.reshape(shape[,order])**\n",
    "\n",
    "直接将数组转换为特定的形状, 但是不会将行列进行转化\n",
    "\n",
    "**ndarray.T**\n",
    "\n",
    "数组的转置\n",
    "\n",
    "**ndarray.resize(new_shape[,refcheck])**\n",
    "\n",
    "改变数组的形状和大小"
   ]
  },
  {
   "cell_type": "code",
   "execution_count": 24,
   "metadata": {},
   "outputs": [
    {
     "data": {
      "text/plain": [
       "array([[-1.51071102, -1.36936024,  0.55694841, -0.20575934, -0.09324103,\n",
       "        -1.99472206,  0.31168829,  1.78759492],\n",
       "       [-0.00632116, -0.45681451,  0.01758019,  0.16156367,  0.85685861,\n",
       "        -1.09281586, -1.55249727,  2.1429633 ],\n",
       "       [ 0.27954998, -0.27899284,  1.48244412, -1.17277055,  0.12600475,\n",
       "         0.32274608,  1.34435922, -0.31759477],\n",
       "       [ 0.96682537,  1.42636143, -0.04854809,  0.73437288,  0.47656736,\n",
       "         2.43022751, -0.13824032,  0.02117672],\n",
       "       [-0.66105999,  0.28058603,  0.61384453, -0.4402858 , -1.12127357,\n",
       "         0.58564511, -1.82240927,  0.34940699],\n",
       "       [-1.66710949,  0.3424013 , -0.41304379, -0.20482929,  0.25796597,\n",
       "         0.80247632,  0.94281792,  0.55335991],\n",
       "       [-1.70455389, -1.48247077,  1.88535557,  0.6650327 , -0.83948646,\n",
       "        -0.26989504, -1.17903328, -0.07452791],\n",
       "       [-0.23354159, -0.04800183, -0.40335668, -1.04830611,  1.22954709,\n",
       "         1.01093354, -0.4699364 ,  0.78883776],\n",
       "       [ 0.80613997,  0.51679347, -0.57349223, -0.39183405,  0.63299306,\n",
       "        -0.83275458, -0.64962102, -1.03816198],\n",
       "       [ 0.09095167, -1.55001416,  0.54429528,  1.30454256, -0.20243059,\n",
       "        -2.25656135,  0.56115705,  0.7123862 ]])"
      ]
     },
     "execution_count": 24,
     "metadata": {},
     "output_type": "execute_result"
    }
   ],
   "source": [
    "stock_change.reshape([10, 8])  # 将股票数据股票行和日期列颠倒过来"
   ]
  },
  {
   "cell_type": "code",
   "execution_count": 25,
   "metadata": {},
   "outputs": [
    {
     "data": {
      "text/plain": [
       "array([[1, 4],\n",
       "       [2, 5],\n",
       "       [3, 6]])"
      ]
     },
     "execution_count": 25,
     "metadata": {},
     "output_type": "execute_result"
    }
   ],
   "source": [
    "a1 = np.array([\n",
    "    [1, 2, 3],\n",
    "    [4, 5, 6]\n",
    "])\n",
    "\n",
    "a1.T"
   ]
  },
  {
   "cell_type": "code",
   "execution_count": 31,
   "metadata": {},
   "outputs": [
    {
     "data": {
      "text/plain": [
       "array([[1, 2, 3, 4, 5, 6]])"
      ]
     },
     "execution_count": 31,
     "metadata": {},
     "output_type": "execute_result"
    }
   ],
   "source": [
    "a1.resize([1, 6])\n",
    "a1"
   ]
  },
  {
   "cell_type": "markdown",
   "metadata": {},
   "source": [
    "#### 5.6 数组类型修改\n",
    "\n",
    "**ndarray.astype(type)**\n",
    "\n",
    "将数组转换为新的数据类型"
   ]
  },
  {
   "cell_type": "code",
   "execution_count": 34,
   "metadata": {},
   "outputs": [
    {
     "data": {
      "text/plain": [
       "array([[-1, -1,  0,  0,  0, -1,  0,  1,  0,  0],\n",
       "       [ 0,  0,  0, -1, -1,  2,  0,  0,  1, -1],\n",
       "       [ 0,  0,  1,  0,  0,  1,  0,  0,  0,  2],\n",
       "       [ 0,  0,  0,  0,  0,  0, -1,  0, -1,  0],\n",
       "       [-1,  0,  0,  0,  0,  0,  0,  0, -1, -1],\n",
       "       [ 1,  0,  0,  0, -1,  0,  0,  0,  0, -1],\n",
       "       [ 1,  1,  0,  0,  0,  0,  0,  0,  0,  0],\n",
       "       [ 0, -1,  0, -1,  0,  1,  0, -2,  0,  0]])"
      ]
     },
     "execution_count": 34,
     "metadata": {},
     "output_type": "execute_result"
    }
   ],
   "source": [
    "stock_change.astype(np.int32)"
   ]
  },
  {
   "cell_type": "markdown",
   "metadata": {},
   "source": [
    "#### 5.7 数组的去重\n",
    "\n",
    "**np.unique(ndarray)**\n",
    "\n",
    "或者**ndarray.unique**"
   ]
  },
  {
   "cell_type": "code",
   "execution_count": 36,
   "metadata": {},
   "outputs": [
    {
     "data": {
      "text/plain": [
       "array([1, 2, 3, 4, 5])"
      ]
     },
     "execution_count": 36,
     "metadata": {},
     "output_type": "execute_result"
    }
   ],
   "source": [
    "a1 = np.array([\n",
    "    [1, 2, 3, 4],\n",
    "    [2, 3, 4, 5]\n",
    "])\n",
    "np.unique(a1)"
   ]
  },
  {
   "cell_type": "markdown",
   "metadata": {},
   "source": [
    "## 6. ndarray运算"
   ]
  },
  {
   "cell_type": "markdown",
   "metadata": {},
   "source": [
    "#### 6.1逻辑运算\n",
    "\n",
    "**通用判断函数**\n",
    "\n",
    "np.all()\n",
    "\n",
    "**三元运算符, 可将多种条件结合**\n",
    "\n",
    "配合逻辑与np.logical_and()和逻辑或np.logical_or()\n",
    "\n",
    "np.where()"
   ]
  },
  {
   "cell_type": "code",
   "execution_count": 39,
   "metadata": {},
   "outputs": [
    {
     "data": {
      "text/plain": [
       "array([[False, False,  True,  True, False, False, False, False, False,\n",
       "        False],\n",
       "       [False, False,  True,  True, False, False, False, False, False,\n",
       "        False],\n",
       "       [False, False,  True, False, False,  True, False, False, False,\n",
       "        False],\n",
       "       [False,  True,  True, False, False,  True, False, False, False,\n",
       "        False],\n",
       "       [ True, False,  True, False, False, False, False,  True, False,\n",
       "         True],\n",
       "       [False, False, False, False,  True, False, False,  True,  True,\n",
       "        False],\n",
       "       [ True, False, False, False,  True, False,  True, False, False,\n",
       "         True],\n",
       "       [ True,  True,  True, False, False,  True,  True, False, False,\n",
       "        False]])"
      ]
     },
     "execution_count": 39,
     "metadata": {},
     "output_type": "execute_result"
    }
   ],
   "source": [
    "stock_change = np.random.normal(0, 1, (8, 10))\n",
    "# stock_change = stock_change[0:5, 0:5]  # 可以索引部分数据\n",
    "\n",
    "# 逻辑判断,涨跌幅大于0.5为True, 小于0.5为False\n",
    "stock_change > 0.5"
   ]
  },
  {
   "cell_type": "code",
   "execution_count": 42,
   "metadata": {},
   "outputs": [
    {
     "data": {
      "text/plain": [
       "False"
      ]
     },
     "execution_count": 42,
     "metadata": {},
     "output_type": "execute_result"
    }
   ],
   "source": [
    "np.all(stock_change[0:2, 0:5] > 0)  # 判断前两支股票是否前5天均为涨"
   ]
  },
  {
   "cell_type": "code",
   "execution_count": 43,
   "metadata": {},
   "outputs": [
    {
     "data": {
      "text/plain": [
       "array([[0, 0, 1, 1],\n",
       "       [0, 0, 0, 0]])"
      ]
     },
     "execution_count": 43,
     "metadata": {},
     "output_type": "execute_result"
    }
   ],
   "source": [
    "a1 = np.array([\n",
    "    [1, 2, 3, 4],\n",
    "    [5, 6, 7, 8]\n",
    "])\n",
    "\n",
    "np.where(np.logical_and(a1 > 2, a1 < 5), 1, 0)  # 将a1中满足 2<a1<5 的换为1, 否则换为0"
   ]
  },
  {
   "cell_type": "code",
   "execution_count": 46,
   "metadata": {},
   "outputs": [
    {
     "data": {
      "text/plain": [
       "array([[1, 0, 0, 0],\n",
       "       [0, 1, 1, 1]])"
      ]
     },
     "execution_count": 46,
     "metadata": {},
     "output_type": "execute_result"
    }
   ],
   "source": [
    "np.where(np.logical_or(a1 > 5, a1 < 2), 1, 0)  # 将a1中满足 5<a1或a1<2 的换为1, 否则换为0"
   ]
  },
  {
   "cell_type": "markdown",
   "metadata": {},
   "source": [
    "#### 6.2 统计运算\n",
    "\n",
    "- min(a[, axis, out, keepdims])\n",
    "\n",
    "    返回数组中的最小值\n",
    "    \n",
    "- max(a[, axis, out, keepdims])\n",
    "\n",
    "    返回数组中的最大值\n",
    "    \n",
    "- median(a[, axis, out, overwrite_input, keepdims])\n",
    "\n",
    "    返回数组的中位数\n",
    "    \n",
    "- mean(a[, axis, dtype, out, keepdims])\n",
    "\n",
    "    返回数组的算术平均数\n",
    "    \n",
    "- std(a[, axis, dtype, out, ddof, keepdims])\n",
    "\n",
    "    返回数组的标准差(波动程度)\n",
    "    \n",
    "- var(a[, axis, dtype, out, ddof, keepdims])\n",
    "\n",
    "    返回数组的方差(波动程度)\n",
    "    \n",
    "- np.argmax(temp, axis=)\n",
    "\n",
    "- np.argmin(temp, axis=)"
   ]
  },
  {
   "cell_type": "code",
   "execution_count": 50,
   "metadata": {},
   "outputs": [
    {
     "name": "stdout",
     "output_type": "stream",
     "text": [
      "stock_change的最小值为:  -2.2042818045932213\n",
      "stock_change的最大值为:  2.626715669000686\n",
      "stock_change的中位数为:  -0.2645665114466043\n",
      "stock_change的算术平均数为:  -0.05752774178417329\n",
      "stock_change的标准差为:  1.087135869870836\n",
      "stock_change的方差为:  1.1818643995598193\n"
     ]
    }
   ],
   "source": [
    "print('stock_change的最小值为: ', stock_change.min())\n",
    "print('stock_change的最大值为: ', stock_change.max())\n",
    "print('stock_change的中位数为: ', np.median(stock_change))\n",
    "print('stock_change的算术平均数为: ', stock_change.mean())\n",
    "print('stock_change的标准差为: ', stock_change.std())\n",
    "print('stock_change的方差为: ', stock_change.var())"
   ]
  },
  {
   "cell_type": "code",
   "execution_count": 57,
   "metadata": {},
   "outputs": [
    {
     "name": "stdout",
     "output_type": "stream",
     "text": [
      "股票数据为:  [[-1.77573109 -0.57601     1.13843719  1.82724692 -0.1677857  -0.21901486\n",
      "  -0.31011816 -0.43954745 -0.79703526 -0.35904632]\n",
      " [-1.78028897 -0.46264011  0.74640046  1.16998381  0.17024759 -0.59807098\n",
      "  -1.75044735 -1.82950437 -0.40613151 -1.60966157]\n",
      " [-0.62196774 -0.47901944  1.77625881 -1.12372567  0.11362925  1.41757105\n",
      "  -0.67044862 -0.405515    0.32518735 -0.66278702]\n",
      " [ 0.48849715  1.19440066  1.68268588 -0.38584126 -0.15375107  0.89702376\n",
      "  -0.96670558 -0.87843182  0.03430074 -0.95430174]\n",
      " [ 2.08413292  0.26196714  1.26064614  0.39875463 -1.7200321  -0.35706\n",
      "  -1.62087636  0.93102677 -0.08982693  1.07364247]\n",
      " [-1.47888801  0.42208587 -0.07949521 -1.12237377  1.8965788  -0.8106739\n",
      "  -1.28896765  0.51258155  0.6430801  -0.54465387]\n",
      " [ 2.32201257 -2.2042818  -0.44245781 -0.61589455  0.80388208 -0.88873825\n",
      "   0.82542189 -0.49816997 -1.58284614  0.94024679]\n",
      " [ 0.75544451  0.50091212  2.62671567 -0.55526718  0.03922951  0.77576278\n",
      "   1.67569207 -0.08350454 -0.91015093 -1.05621869]]\n",
      "所有股票中涨幅最大的天数为第 [4 4 3 3 1 5 1 3] 天 \n"
     ]
    }
   ],
   "source": [
    "# 统计具体的哪一支股票在某个交易日涨幅最大或最小\n",
    "print('股票数据为: ', stock_change)\n",
    "print('所有股票中涨幅最大的天数为第 {} 天 '.format(np.argmax(stock_change, axis=1) + 1))"
   ]
  },
  {
   "cell_type": "markdown",
   "metadata": {},
   "source": [
    "## 7. 数组间的运算"
   ]
  },
  {
   "cell_type": "markdown",
   "metadata": {},
   "source": [
    "#### 7.1数组与数的运算"
   ]
  },
  {
   "cell_type": "code",
   "execution_count": 64,
   "metadata": {},
   "outputs": [
    {
     "data": {
      "text/plain": [
       "array([[ 2,  3,  4,  5,  6],\n",
       "       [ 7,  8,  9, 10, 11]])"
      ]
     },
     "execution_count": 64,
     "metadata": {},
     "output_type": "execute_result"
    }
   ],
   "source": [
    "a1 = np.array([\n",
    "    [1, 2, 3, 4, 5],\n",
    "    [6, 7, 8, 9, 10]\n",
    "])\n",
    "\n",
    "a1 + 1"
   ]
  },
  {
   "cell_type": "code",
   "execution_count": 65,
   "metadata": {},
   "outputs": [
    {
     "data": {
      "text/plain": [
       "array([[ 2,  4,  6,  8, 10],\n",
       "       [12, 14, 16, 18, 20]])"
      ]
     },
     "execution_count": 65,
     "metadata": {},
     "output_type": "execute_result"
    }
   ],
   "source": [
    "a1 * 2"
   ]
  },
  {
   "cell_type": "code",
   "execution_count": 66,
   "metadata": {},
   "outputs": [
    {
     "data": {
      "text/plain": [
       "array([[0.5, 1. , 1.5, 2. , 2.5],\n",
       "       [3. , 3.5, 4. , 4.5, 5. ]])"
      ]
     },
     "execution_count": 66,
     "metadata": {},
     "output_type": "execute_result"
    }
   ],
   "source": [
    "a1 / 2"
   ]
  },
  {
   "cell_type": "markdown",
   "metadata": {},
   "source": [
    "#### 7.2数组与数组的运算\n",
    "\n",
    "**需要满足矩阵的运算规则**\n",
    "\n",
    "- np.mat()\n",
    "\n",
    "    将数组转换为矩阵\n",
    "\n",
    "- np.matmul()\n",
    "    \n",
    "    数组之间的乘法\n",
    "    \n",
    "- np.dot()\n",
    "\n",
    "    数组之间的乘法"
   ]
  },
  {
   "cell_type": "code",
   "execution_count": 70,
   "metadata": {},
   "outputs": [
    {
     "name": "stdout",
     "output_type": "stream",
     "text": [
      "[[82 80]\n",
      " [80 86]\n",
      " [85 78]\n",
      " [90 90]\n",
      " [86 82]\n",
      " [82 90]\n",
      " [78 80]\n",
      " [92 94]]\n"
     ]
    },
    {
     "data": {
      "text/plain": [
       "array([[81.4],\n",
       "       [81.8],\n",
       "       [82.9],\n",
       "       [90. ],\n",
       "       [84.8],\n",
       "       [84.4],\n",
       "       [78.6],\n",
       "       [92.6]])"
      ]
     },
     "execution_count": 70,
     "metadata": {},
     "output_type": "execute_result"
    }
   ],
   "source": [
    "# 根据学生的平时成绩和期末成绩计算根据权重计算总的成绩\n",
    "scores = np.array([\n",
    "    [82, 80],\n",
    "    [80, 86],\n",
    "    [85, 78],\n",
    "    [90, 90],\n",
    "    [86, 82],\n",
    "    [82, 90],\n",
    "    [78, 80],\n",
    "    [92, 94]\n",
    "])  # 8位同学的成绩\n",
    "print(np.mat(scores))  # 将数组转换为矩阵\n",
    "rate = np.array([[0.7],[0.3]])  # 计算权重\n",
    "\n",
    "np.matmul(scores, rate)  # 数组之间的乘法"
   ]
  },
  {
   "cell_type": "markdown",
   "metadata": {},
   "source": [
    "#### 7.3数组合并与分割\n",
    "\n",
    "**合并**\n",
    "\n",
    "- numpy.concatenate((a1, a2, ...), axis=0)\n",
    "\n",
    "    类似于将数组后面添加一行或列,但是需要注意两者的纬度需要相同\n",
    "\n",
    "- numpy.hstack(tup) \n",
    "    \n",
    "    Stack arrays in sequence horizontally (column wise).\n",
    "    \n",
    "    按照顺序堆栈数组, 以列的方式\n",
    "    \n",
    "    此处的两个数组的行列都得相同\n",
    "    \n",
    "- numpy.vstack(tup) \n",
    "    \n",
    "    Stack arrays in sequence vertically (row wise).\n",
    "    \n",
    "    按照顺序堆栈数组, 以行的方式"
   ]
  },
  {
   "cell_type": "code",
   "execution_count": 8,
   "metadata": {},
   "outputs": [
    {
     "data": {
      "text/plain": [
       "array([[ 1,  2,  3],\n",
       "       [ 4,  5,  6],\n",
       "       [11, 22, 33],\n",
       "       [ 7,  8,  9]])"
      ]
     },
     "execution_count": 8,
     "metadata": {},
     "output_type": "execute_result"
    }
   ],
   "source": [
    "import numpy as np\n",
    "\n",
    "a1 = np.array([\n",
    "    [1, 2, 3],\n",
    "    [4, 5, 6],\n",
    "    [11, 22, 33]\n",
    "])\n",
    "\n",
    "b1 = np.array([\n",
    "    [7, 8, 9]\n",
    "])\n",
    "\n",
    "np.concatenate((a1, b1), axis=0)  # 将两个数组合并,以增加行的方式"
   ]
  },
  {
   "cell_type": "code",
   "execution_count": 10,
   "metadata": {},
   "outputs": [
    {
     "data": {
      "text/plain": [
       "array([[ 1,  2,  3,  7],\n",
       "       [ 4,  5,  6,  8],\n",
       "       [11, 22, 33,  9]])"
      ]
     },
     "execution_count": 10,
     "metadata": {},
     "output_type": "execute_result"
    }
   ],
   "source": [
    "np.concatenate((a1, b1.T), axis=1)  # 将两个数组合并,以增加列的方式"
   ]
  },
  {
   "cell_type": "code",
   "execution_count": 13,
   "metadata": {},
   "outputs": [
    {
     "data": {
      "text/plain": [
       "array([[ 1, 11],\n",
       "       [ 2, 22],\n",
       "       [ 3, 33]])"
      ]
     },
     "execution_count": 13,
     "metadata": {},
     "output_type": "execute_result"
    }
   ],
   "source": [
    "a1 = np.array([[1], [2], [3]])\n",
    "b1 = np.array([[11], [22], [33]])\n",
    "\n",
    "np.hstack((a1, b1))  # 注意此处合并方式的差异"
   ]
  },
  {
   "cell_type": "code",
   "execution_count": 14,
   "metadata": {},
   "outputs": [
    {
     "data": {
      "text/plain": [
       "array([[ 1],\n",
       "       [ 2],\n",
       "       [ 3],\n",
       "       [11],\n",
       "       [22],\n",
       "       [33]])"
      ]
     },
     "execution_count": 14,
     "metadata": {},
     "output_type": "execute_result"
    }
   ],
   "source": [
    "np.vstack((a1, b1))"
   ]
  },
  {
   "cell_type": "markdown",
   "metadata": {},
   "source": [
    "**分割**\n",
    "\n",
    "- numpy.split(ary, indices_or_sections, axis=0) \n",
    "\n",
    "    Split an array into multiple sub-arrays.\n",
    "    \n",
    "    将一个数组分割为多个子数组"
   ]
  },
  {
   "cell_type": "code",
   "execution_count": 18,
   "metadata": {},
   "outputs": [
    {
     "data": {
      "text/plain": [
       "[array([0, 1, 2], dtype=int64),\n",
       " array([3, 4, 5], dtype=int64),\n",
       " array([6, 7, 8], dtype=int64)]"
      ]
     },
     "execution_count": 18,
     "metadata": {},
     "output_type": "execute_result"
    }
   ],
   "source": [
    "a1 = np.arange(9, dtype=np.int64)  # 随机生成一个数组\n",
    "np.split(a1, 3)  # 将a1分割为3个子数组"
   ]
  },
  {
   "cell_type": "code",
   "execution_count": 19,
   "metadata": {},
   "outputs": [
    {
     "data": {
      "text/plain": [
       "[array([0, 1], dtype=int64),\n",
       " array([2, 3, 4], dtype=int64),\n",
       " array([5, 6, 7, 8], dtype=int64)]"
      ]
     },
     "execution_count": 19,
     "metadata": {},
     "output_type": "execute_result"
    }
   ],
   "source": [
    "np.split(a1, [2, 5])  # 指明两个分割的位置进行分割"
   ]
  },
  {
   "cell_type": "markdown",
   "metadata": {},
   "source": [
    "## 8. IO操作和数据处理\n",
    "\n",
    "- genfromtxt(fname[, dtype, comments, ...])\n",
    "\n",
    "    Load data from a text file, with missing values handled as specified.\n",
    "    \n",
    "    从文件中读取数据,当出现缺失值时,会由 NAN 代替\n",
    "\n",
    "**numpy并不是太适合此类操作, 会尽量由 pandas 代替**"
   ]
  },
  {
   "cell_type": "code",
   "execution_count": 23,
   "metadata": {},
   "outputs": [
    {
     "data": {
      "text/plain": [
       "array([[nan, nan, nan],\n",
       "       [ 1., 90., 95.],\n",
       "       [ 2., 85., 70.],\n",
       "       [ 3., 90., 80.]])"
      ]
     },
     "execution_count": 23,
     "metadata": {},
     "output_type": "execute_result"
    }
   ],
   "source": [
    "# 读取csv格式文件,需要说明分隔符为 , \n",
    "np_test_file = np.genfromtxt('./data/np_test.csv', delimiter=',')\n",
    "np_test_file"
   ]
  }
 ],
 "metadata": {
  "kernelspec": {
   "display_name": "Python 3",
   "language": "python",
   "name": "python3"
  },
  "language_info": {
   "codemirror_mode": {
    "name": "ipython",
    "version": 3
   },
   "file_extension": ".py",
   "mimetype": "text/x-python",
   "name": "python",
   "nbconvert_exporter": "python",
   "pygments_lexer": "ipython3",
   "version": "3.6.2"
  }
 },
 "nbformat": 4,
 "nbformat_minor": 2
}
