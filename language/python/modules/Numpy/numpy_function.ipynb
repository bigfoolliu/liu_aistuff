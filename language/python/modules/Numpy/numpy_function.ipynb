{
 "cells": [
  {
   "cell_type": "markdown",
   "metadata": {},
   "source": [
    "# numpy常用函数"
   ]
  },
  {
   "cell_type": "markdown",
   "metadata": {},
   "source": [
    "### 创建一个单位矩阵并将其存储到文件中\n",
    "eye()函数创建单位矩阵"
   ]
  },
  {
   "cell_type": "code",
   "execution_count": 2,
   "metadata": {},
   "outputs": [
    {
     "data": {
      "text/plain": [
       "array([[1., 0., 0., 0.],\n",
       "       [0., 1., 0., 0.],\n",
       "       [0., 0., 1., 0.],\n",
       "       [0., 0., 0., 1.]])"
      ]
     },
     "execution_count": 2,
     "metadata": {},
     "output_type": "execute_result"
    }
   ],
   "source": [
    "import numpy as np\n",
    "i4 = np.eye(4)\n",
    "i4"
   ]
  },
  {
   "cell_type": "markdown",
   "metadata": {},
   "source": [
    "#### 将数据存储到文件中\n",
    "savetxt()函数"
   ]
  },
  {
   "cell_type": "code",
   "execution_count": 3,
   "metadata": {},
   "outputs": [],
   "source": [
    "np.savetxt(\"./eye.txt\", i4)"
   ]
  },
  {
   "cell_type": "markdown",
   "metadata": {},
   "source": [
    "### 读入csv文件中的数据\n",
    "1. 数据库的转存文件就是csv格式\n",
    "2. loadtxt()函数"
   ]
  },
  {
   "cell_type": "code",
   "execution_count": 6,
   "metadata": {},
   "outputs": [
    {
     "name": "stdout",
     "output_type": "stream",
     "text": [
      "c:  336.1\n",
      "v: 21144800.0\n",
      "vwap: 336.1\n"
     ]
    }
   ],
   "source": [
    "# 读取股票中的收盘价以及成交量,分隔符为,\n",
    "c, v = np.loadtxt(\"./data.csv\", delimiter=\",\", usecols=(6, 7), unpack=True)\n",
    "# 计算成交量加权平均价格\n",
    "vwap =  np.average(c, weights=v)\n",
    "\n",
    "print(\"c: \", c)\n",
    "print(\"v:\", v)\n",
    "print(\"vwap:\", vwap)"
   ]
  },
  {
   "cell_type": "markdown",
   "metadata": {},
   "source": [
    "#### 简单的统计分析"
   ]
  },
  {
   "cell_type": "code",
   "execution_count": 3,
   "metadata": {},
   "outputs": [
    {
     "name": "stdout",
     "output_type": "stream",
     "text": [
      "c:  <class 'numpy.ndarray'> [344.17 344.4  333.53 336.1 ]\n",
      "中位数:  340.135\n",
      "算术平均数:  339.54999999999995\n",
      "最大值:  344.4\n",
      "最小值:  333.53\n",
      "方差:  23.252450000000028\n",
      "最大元素的索引:  1\n",
      "最小元素的索引:  2\n",
      "所有元素之和:  [ 344.17  688.57 1022.1  1358.2 ]\n",
      "所有元素之积:  [3.44170000e+02 1.18532148e+05 3.95340273e+07 1.32873866e+10]\n"
     ]
    }
   ],
   "source": [
    "import numpy as np\n",
    "# 读取文件中的数据\n",
    "c = np.loadtxt(\"./data.csv\", delimiter=\",\", usecols=(3, 4, 5, 6), unpack=True)\n",
    "print(\"c: \", type(c), c)\n",
    "\n",
    "# 中位数\n",
    "medi = np.median(c)\n",
    "print(\"中位数: \", medi)\n",
    "\n",
    "# 算术平均数\n",
    "ave = np.mean(c)\n",
    "print(\"算术平均数: \", ave)\n",
    "\n",
    "# 最大值\n",
    "max_num = np.max(c)\n",
    "print(\"最大值: \", max_num)\n",
    "\n",
    "# 最小值\n",
    "min_num = np.min(c)\n",
    "print(\"最小值: \", min_num)\n",
    "\n",
    "# 方差\n",
    "variance = np.var(c)\n",
    "print(\"方差: \", variance)\n",
    "\n",
    "# 最大元素的索引\n",
    "s1 = np.argmax(c)\n",
    "print(\"最大元素的索引: \", s1)\n",
    "\n",
    "# 最小元素的索引\n",
    "s2 = np.argmin(c)\n",
    "print(\"最小元素的索引: \", s2)\n",
    "\n",
    "# 所有元素的累积和(每个元素累加自己之前的所有元素)\n",
    "sum_all = np.cumsum(c)\n",
    "print(\"所有元素之和: \", sum_all)\n",
    "\n",
    "# 所有元素的累计积(每个元素累乘自己之前的所有元素)\n",
    "result1 = np.cumprod(c)\n",
    "print(\"所有元素之积: \", result1)"
   ]
  },
  {
   "cell_type": "markdown",
   "metadata": {},
   "source": [
    "#### 简单数组排序"
   ]
  },
  {
   "cell_type": "code",
   "execution_count": 5,
   "metadata": {},
   "outputs": [
    {
     "data": {
      "text/plain": [
       "array([333.53, 336.1 , 344.17, 344.4 ])"
      ]
     },
     "execution_count": 5,
     "metadata": {},
     "output_type": "execute_result"
    }
   ],
   "source": [
    "c.sort()\n",
    "c"
   ]
  },
  {
   "cell_type": "markdown",
   "metadata": {},
   "source": [
    "### 线性代数\n",
    "\n",
    "numpy.linalg中的一组函数:\n",
    "1. dot()用于矩阵乘法\n",
    "2. det()计算矩阵的行列式\n",
    "3. eig()计算方阵的本征值和本征向量\n",
    "4. inv()计算方阵的逆\n",
    "5. solve()解线性方程组Ax=b,其中A为方阵\n",
    "6. svd()计算奇异值分解(SVD)"
   ]
  },
  {
   "cell_type": "code",
   "execution_count": 7,
   "metadata": {},
   "outputs": [
    {
     "name": "stdout",
     "output_type": "stream",
     "text": [
      "a:\n",
      " [[0 1 2]\n",
      " [3 4 5]]\n",
      "b:\n",
      " [[0 1]\n",
      " [2 3]\n",
      " [4 5]]\n",
      "c:\n",
      " [[10 13]\n",
      " [28 40]]\n"
     ]
    }
   ],
   "source": [
    "import numpy as np\n",
    "\n",
    "a = np.arange(6).reshape(2, 3)\n",
    "b = np.arange(6).reshape(3, 2)\n",
    "c = np.dot(a, b)\n",
    "print(\"a:\\n\", a)\n",
    "print(\"b:\\n\", b)\n",
    "\n",
    "print(\"c:\\n\", c)"
   ]
  },
  {
   "cell_type": "code",
   "execution_count": 11,
   "metadata": {},
   "outputs": [
    {
     "data": {
      "text/plain": [
       "36.0"
      ]
     },
     "execution_count": 11,
     "metadata": {},
     "output_type": "execute_result"
    }
   ],
   "source": [
    "from numpy.linalg import *\n",
    "# 行列式\n",
    "det(c)"
   ]
  },
  {
   "cell_type": "code",
   "execution_count": 13,
   "metadata": {},
   "outputs": [
    {
     "name": "stdout",
     "output_type": "stream",
     "text": [
      "[ 0.7306778 49.2693222]\n",
      "\n",
      "\n",
      "[[-0.81421878 -0.31427384]\n",
      " [ 0.58055817 -0.94933237]]\n",
      "\n",
      "\n"
     ]
    }
   ],
   "source": [
    "# 方阵的本征值和本征向量\n",
    "result = eig(c)\n",
    "for item in result:\n",
    "    print(item)\n",
    "    print(\"\\n\")"
   ]
  },
  {
   "cell_type": "markdown",
   "metadata": {},
   "source": [
    "\n",
    "#### 随机数生成\n",
    "numpy.random模块\n",
    "1. rand()产生均匀分布的样本值\n",
    "2. randint()从给定的上下限范围内随机选取整数\n",
    "3. randn()产生正态分布(均值为0,标准差为1)的样本值\n",
    "4. binomial()产生二项分布的样本值\n",
    "5. normal()产生正态(高斯)分布的样本值\n",
    "\n",
    "\n",
    "6. beta()产生Beta分布的样本值\n",
    "7. chisquare()产生卡方分布的样本值\n",
    "8. gamma()产生Gamma分布的样本值\n",
    "\n",
    "\n",
    "9. uniform()产生在[0,1]中均匀分布的样本值"
   ]
  },
  {
   "cell_type": "code",
   "execution_count": 14,
   "metadata": {},
   "outputs": [
    {
     "data": {
      "text/plain": [
       "array([[ 0.51341641, -0.63023488, -1.05918974,  1.41368505],\n",
       "       [ 0.69850955,  0.01534258, -3.31591792, -3.01610039],\n",
       "       [-0.54145364,  0.63134406, -0.74711948,  0.04875474],\n",
       "       [ 0.81699702,  0.796563  ,  0.26422571, -1.4474639 ]])"
      ]
     },
     "execution_count": 14,
     "metadata": {},
     "output_type": "execute_result"
    }
   ],
   "source": [
    "from numpy.random import *\n",
    "\n",
    "# 利用normal()得到一个标准正态分布的4*4样本数组\n",
    "samples = normal(size=(4, 4))\n",
    "samples"
   ]
  },
  {
   "cell_type": "code",
   "execution_count": 25,
   "metadata": {},
   "outputs": [
    {
     "data": {
      "text/plain": [
       "array([[0.91238036, 0.18128263],\n",
       "       [0.7135678 , 0.59519867]])"
      ]
     },
     "execution_count": 25,
     "metadata": {},
     "output_type": "execute_result"
    }
   ],
   "source": [
    "rand(2, 2)"
   ]
  },
  {
   "cell_type": "code",
   "execution_count": 57,
   "metadata": {},
   "outputs": [
    {
     "name": "stdout",
     "output_type": "stream",
     "text": [
      "a: 1\n",
      "b: [[13 13 17]\n",
      " [12 16 19]]\n"
     ]
    }
   ],
   "source": [
    "a = randint(10)\n",
    "print(\"a:\", a)\n",
    "\n",
    "b = randint(low=10, high=20, size=(2,3))\n",
    "print(\"b:\", b)"
   ]
  },
  {
   "cell_type": "code",
   "execution_count": 212,
   "metadata": {},
   "outputs": [
    {
     "name": "stdout",
     "output_type": "stream",
     "text": [
      "2\n",
      "[1 2 2 1 1 1 1 1 2 2 0 1 0 1 2 2 2 3 2 1]\n",
      "[1 0 0 0 0 1 1 1 1 0 1 1 1 0 1 1 0 1 1 0 1 0 0 0 1 1 1 0 1 1 1 1 1 1 0 1 1\n",
      " 1 1 1 0 1 0 0 0 0 0 1 0 1 0 0 0 1 1 1 1 1 1 0 1 0 0 1 0 0 0 1 1 1 1 0 0 1\n",
      " 0 1 1 1 1 1 0 1 1 0 0 1 0 1 0 1 1 1 0 1 0 1 1 1 1 1]\n",
      "0.39\n"
     ]
    }
   ],
   "source": [
    "# 前一个位置参数表示范围,后一个表示概率,最后一个表示个数\n",
    "a = binomial(2, 1)\n",
    "print(a)\n",
    "\n",
    "b = binomial(3, 0.5, 20)\n",
    "print(b)\n",
    "\n",
    "c = binomial(1, 0.5, 100)\n",
    "print(c)\n",
    "possiablity = sum(c==0)/100\n",
    "print(possiablity)"
   ]
  },
  {
   "cell_type": "code",
   "execution_count": null,
   "metadata": {},
   "outputs": [],
   "source": []
  }
 ],
 "metadata": {
  "kernelspec": {
   "display_name": "Python 3",
   "language": "python",
   "name": "python3"
  },
  "language_info": {
   "codemirror_mode": {
    "name": "ipython",
    "version": 3
   },
   "file_extension": ".py",
   "mimetype": "text/x-python",
   "name": "python",
   "nbconvert_exporter": "python",
   "pygments_lexer": "ipython3",
   "version": "3.6.2"
  }
 },
 "nbformat": 4,
 "nbformat_minor": 2
}
